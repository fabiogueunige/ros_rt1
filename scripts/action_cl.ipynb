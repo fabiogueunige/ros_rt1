{
 "cells": [
  {
   "cell_type": "markdown",
   "metadata": {},
   "source": [
    "# Action Client node for user interface with Jupyter "
   ]
  },
  {
   "cell_type": "markdown",
   "metadata": {},
   "source": [
    "### Import\n",
    "Common imports"
   ]
  },
  {
   "cell_type": "code",
   "execution_count": 1,
   "metadata": {},
   "outputs": [],
   "source": [
    "import rospy\n",
    "import assignment_2_2023.msg\n",
    "from assignment_2_2023.msg import GoalCoord\n",
    "from assignment_2_2023.srv import CancelGoal, CancelGoalResponse\n",
    "from turtlesim.msg import Pose\n",
    "from nav_msgs.msg import Odometry\n",
    "import time\n",
    "import numpy as np\n",
    "import matplotlib as mpl\n",
    "import matplotlib.pyplot as plt\n",
    "import math"
   ]
  },
  {
   "cell_type": "markdown",
   "metadata": {},
   "source": [
    "Other Imports"
   ]
  },
  {
   "cell_type": "code",
   "execution_count": 2,
   "metadata": {},
   "outputs": [],
   "source": [
    "#import jupyros as jr\n",
    "#from jupyros import ros3d\n",
    "import os\n",
    "from ipywidgets import Button, Layout, ButtonStyle, GridBox, VBox, HBox\n",
    "from ipywidgets import interact, interactive, fixed, interact_manual\n",
    "import ipywidgets as widgets\n",
    "from IPython.display import display"
   ]
  },
  {
   "cell_type": "markdown",
   "metadata": {},
   "source": [
    "### Init of the node"
   ]
  },
  {
   "cell_type": "code",
   "execution_count": 3,
   "metadata": {
    "metadata": {}
   },
   "outputs": [
    {
     "data": {
      "application/vnd.jupyter.widget-view+json": {
       "model_id": "7ea21ee0853a4d739f682a5b281ce92f",
       "version_major": 2,
       "version_minor": 0
      },
      "text/plain": [
       "Textarea(value='Hi, welcome to the robot planner simulation!!', layout=Layout(width='auto'))"
      ]
     },
     "metadata": {},
     "output_type": "display_data"
    }
   ],
   "source": [
    "time.sleep(1)\n",
    "\n",
    "# Initialize the node\n",
    "rospy.init_node('user_interface')\n",
    "\n",
    "# Goal insert by the user publisher\n",
    "pubgoal = rospy.Publisher('/goal_coord', GoalCoord, queue_size=1)\n",
    "\n",
    "# wait for the service to be available\n",
    "rospy.wait_for_service('/cancel_goal')\n",
    "cancgoalServ = rospy.ServiceProxy('/cancel_goal', CancelGoal)\n",
    "\n",
    "welcText = widgets.Textarea(value='Hi, welcome to the robot planner simulation!!', layout=widgets.Layout(width='auto'))\n",
    "display(welcText)\n",
    "\n",
    "goalSet = [] # All goal set by the user\n",
    "goalCanc = [] # All goal canceled by the user\n",
    "goalReached = [] # All goal reached by the robot\n"
   ]
  },
  {
   "cell_type": "markdown",
   "metadata": {},
   "source": [
    "## Odom subscription\n",
    "Subscriber to check if the goal has been reached or not\n"
   ]
  },
  {
   "cell_type": "code",
   "execution_count": 4,
   "metadata": {},
   "outputs": [],
   "source": [
    "def goal_reach_callback (msg):\n",
    "\n",
    "    if goalSet and len(goalSet) > len(goalReached) + len(goalCanc):\n",
    "        if msg.pose.pose.position.x - 0.5 < goalSet[-1][0] < msg.pose.pose.position.x + 0.5 and msg.pose.pose.position.y - 0.5 < goalSet[-1][1] < msg.pose.pose.position.y + 0.5:\n",
    "            goalReached.append(goalSet[-1])\n",
    "            print(goalReached)\n",
    "            \n",
    "\n",
    "subpos = rospy.Subscriber('/odom', Odometry, goal_reach_callback)"
   ]
  },
  {
   "cell_type": "markdown",
   "metadata": {},
   "source": [
    "### User Interface\n",
    "User Interface to set the goal"
   ]
  },
  {
   "cell_type": "code",
   "execution_count": 5,
   "metadata": {
    "metadata": {}
   },
   "outputs": [
    {
     "data": {
      "application/vnd.jupyter.widget-view+json": {
       "model_id": "3d38b810a0b44d1abbc01fbd1b3a961d",
       "version_major": 2,
       "version_minor": 0
      },
      "text/plain": [
       "Textarea(value='Please choose the goal position you want to reach with the robot.', layout=Layout(width='auto'…"
      ]
     },
     "metadata": {},
     "output_type": "display_data"
    },
    {
     "data": {
      "application/vnd.jupyter.widget-view+json": {
       "model_id": "8b3a56a0e2774cefa794907124bd48fa",
       "version_major": 2,
       "version_minor": 0
      },
      "text/plain": [
       "Text(value='Choose the x coordinate:')"
      ]
     },
     "metadata": {},
     "output_type": "display_data"
    },
    {
     "data": {
      "application/vnd.jupyter.widget-view+json": {
       "model_id": "1959ba17dc5942e5958cde920dce11bc",
       "version_major": 2,
       "version_minor": 0
      },
      "text/plain": [
       "IntSlider(value=0, layout=Layout(width='auto'), max=8, min=-8)"
      ]
     },
     "metadata": {},
     "output_type": "display_data"
    },
    {
     "data": {
      "application/vnd.jupyter.widget-view+json": {
       "model_id": "d36209b16dc847bdb0d575fd64a41338",
       "version_major": 2,
       "version_minor": 0
      },
      "text/plain": [
       "Text(value='Choose the y coordinate:')"
      ]
     },
     "metadata": {},
     "output_type": "display_data"
    },
    {
     "data": {
      "application/vnd.jupyter.widget-view+json": {
       "model_id": "7791ded54300434cbc86dbc211c5d4a6",
       "version_major": 2,
       "version_minor": 0
      },
      "text/plain": [
       "IntSlider(value=0, layout=Layout(width='auto'), max=8, min=-8)"
      ]
     },
     "metadata": {},
     "output_type": "display_data"
    },
    {
     "data": {
      "application/vnd.jupyter.widget-view+json": {
       "model_id": "2325203959f341dda6c06090778b4b6a",
       "version_major": 2,
       "version_minor": 0
      },
      "text/plain": [
       "Box(children=(Button(description='Send goal', layout=Layout(display='flex', justify_content='center', width='a…"
      ]
     },
     "metadata": {},
     "output_type": "display_data"
    },
    {
     "data": {
      "application/vnd.jupyter.widget-view+json": {
       "model_id": "6796c4ea982a46d498df153b32bbd29e",
       "version_major": 2,
       "version_minor": 0
      },
      "text/plain": [
       "Output()"
      ]
     },
     "metadata": {},
     "output_type": "display_data"
    }
   ],
   "source": [
    "introText = widgets.Textarea(value='Please choose the goal position you want to reach with the robot.', \n",
    "                             layout=widgets.Layout(width='auto'))\n",
    "display(introText)\n",
    "xdes = widgets.Text(value='Choose the x coordinate:')\n",
    "# widget to insert the x coordinate of the goal\n",
    "xgoal = widgets.IntSlider(\n",
    "    value = 0,\n",
    "    min = -8,\n",
    "    max = 8,\n",
    "    step = 1,\n",
    "    layout=widgets.Layout(width='auto')\n",
    ")\n",
    "display(xdes, xgoal)\n",
    "\n",
    "# widget to insert the y coordinate of the goal\n",
    "ydes = widgets.Text(value='Choose the y coordinate:')\n",
    "ygoal = widgets.IntSlider(\n",
    "    value = 0,\n",
    "    min = -8,\n",
    "    max = 8,\n",
    "    step = 1,\n",
    "    layout=widgets.Layout(width='auto')\n",
    ")\n",
    "display(ydes, ygoal)\n",
    "\n",
    "# Button to send the goal to the robot\n",
    "bttgoal = widgets.Button(description='Send goal', \n",
    "                         layout=widgets.Layout(width='auto', display='flex', justify_content='center'), \n",
    "                         style=widgets.ButtonStyle(button_color='red', font_weight='bold', color='white'))\n",
    "box = widgets.Box([bttgoal])\n",
    "box.layout = widgets.Layout(display='flex', justify_content='center', width='100%')\n",
    "out = widgets.Output()\n",
    "display(box, out)\n",
    "\n",
    "# Function to send the goal to the robot\n",
    "def on_button_clicked_set(b):\n",
    "    with out:\n",
    "        if xgoal.value == None or ygoal.value == None:\n",
    "            print('Please insert a valid number')\n",
    "        else:\n",
    "            goal = GoalCoord()\n",
    "            goal.coord_x = xgoal.value\n",
    "            goal.coord_y = ygoal.value\n",
    "            pubgoal.publish(goal)\n",
    "            goalSet.append([xgoal.value, ygoal.value])\n",
    "            print('Goal sent to the robot')\n",
    "\n",
    "bttgoal.on_click(on_button_clicked_set)"
   ]
  },
  {
   "cell_type": "markdown",
   "metadata": {},
   "source": [
    "User Interface to cancel the goal\n"
   ]
  },
  {
   "cell_type": "code",
   "execution_count": 6,
   "metadata": {
    "metadata": {}
   },
   "outputs": [
    {
     "data": {
      "application/vnd.jupyter.widget-view+json": {
       "model_id": "f6c3423cfc57418cab4b85111c23e7f0",
       "version_major": 2,
       "version_minor": 0
      },
      "text/plain": [
       "Textarea(value='Here you can cancel the the latest goal', layout=Layout(width='auto'))"
      ]
     },
     "metadata": {},
     "output_type": "display_data"
    },
    {
     "data": {
      "application/vnd.jupyter.widget-view+json": {
       "model_id": "310274a5973a4dc69fc5956f8933cf71",
       "version_major": 2,
       "version_minor": 0
      },
      "text/plain": [
       "Box(children=(Button(description='Cancel goal', layout=Layout(display='flex', justify_content='center', width=…"
      ]
     },
     "metadata": {},
     "output_type": "display_data"
    },
    {
     "data": {
      "application/vnd.jupyter.widget-view+json": {
       "model_id": "8da5a287991a4aa4a12e8777a7ff321b",
       "version_major": 2,
       "version_minor": 0
      },
      "text/plain": [
       "Output()"
      ]
     },
     "metadata": {},
     "output_type": "display_data"
    }
   ],
   "source": [
    "# Text to cancel the latest goal\n",
    "cancText = widgets.Textarea(value='Here you can cancel the the latest goal', \n",
    "                             layout=widgets.Layout(width='auto'))\n",
    "display(cancText)\n",
    "\n",
    "# Button to cancel the goal\n",
    "bttcanc = widgets.Button(description='Cancel goal', \n",
    "                         layout=widgets.Layout(width='auto', display='flex', justify_content='center'), \n",
    "                         style=widgets.ButtonStyle(button_color='purple', font_weight='bold', color='black'))\n",
    "boxcanc = widgets.Box([bttcanc])\n",
    "boxcanc.layout = widgets.Layout(display='flex', justify_content='center', width='100%')\n",
    "out = widgets.Output()\n",
    "display(boxcanc, out)\n",
    "\n",
    "# Function to cancel the goal when button is clicked\n",
    "def on_button_clicked_canc(b):\n",
    "    with out:\n",
    "        if len(goalSet) == 0:\n",
    "            print('No goal to cancel')\n",
    "        else:\n",
    "            status = cancgoalServ()\n",
    "            # perform the control\n",
    "            if (status.stat == \"Done\"):\n",
    "                goalCanc.append(goalSet[-1])\n",
    "                print('Goal ',goalCanc[-1][0], ' , ',goalCanc[-1][1], ' cancelled')\n",
    "            elif (status.stat == \"Reached\"):\n",
    "                print('Goal not cancelled becouse already reached')\n",
    "            else:\n",
    "                print('Goal not cancelled, error occoured')\n",
    "\n",
    "\n",
    "bttcanc.on_click(on_button_clicked_canc)"
   ]
  },
  {
   "cell_type": "markdown",
   "metadata": {},
   "source": [
    "### Graphical representation\n",
    "\n",
    "Warning: The list containing the values for the graph, due to computer problems, must have a small size.  \n",
    "Because of that, the graph will show only 100 points.\n",
    "\n",
    "Graph to show the real time robot position in the environment."
   ]
  },
  {
   "cell_type": "code",
   "execution_count": 7,
   "metadata": {},
   "outputs": [
    {
     "data": {
      "application/vnd.jupyter.widget-view+json": {
       "model_id": "15ba33c4810743c89a2ee961f967ab89",
       "version_major": 2,
       "version_minor": 0
      },
      "text/plain": [
       "Textarea(value='Robot real time position', layout=Layout(width='auto'))"
      ]
     },
     "metadata": {},
     "output_type": "display_data"
    },
    {
     "data": {
      "application/vnd.jupyter.widget-view+json": {
       "model_id": "080d5b8a61634041b7987634ab54e229",
       "version_major": 2,
       "version_minor": 0
      },
      "text/plain": [
       "Textarea(value='', layout=Layout(width='auto'))"
      ]
     },
     "metadata": {},
     "output_type": "display_data"
    },
    {
     "data": {
      "application/vnd.jupyter.widget-view+json": {
       "model_id": "2928e76892c94501b923755557735134",
       "version_major": 2,
       "version_minor": 0
      },
      "text/plain": [
       "Textarea(value='', layout=Layout(width='auto'))"
      ]
     },
     "metadata": {},
     "output_type": "display_data"
    }
   ],
   "source": [
    "%matplotlib widget\n",
    "import matplotlib.pyplot as plt\n",
    "import rospy\n",
    "import tf\n",
    "from tf.transformations import quaternion_matrix\n",
    "import numpy as np\n",
    "from matplotlib.animation import FuncAnimation\n",
    "\n",
    "# Function to ensure that the two lists have the same length\n",
    "def ensure_same_length(list1, list2):\n",
    "    if len(list1) > len(list2):\n",
    "        list1 = list1[:len(list2)]\n",
    "    elif len(list2) > len(list1):\n",
    "        list2 = list2[:len(list1)]\n",
    "    return list1, list2\n",
    "\n",
    "posText = widgets.Textarea(value='Robot real time position', layout=widgets.Layout(width='auto'))\n",
    "xvalue = widgets.Textarea(value='', layout=widgets.Layout(width='auto'))\n",
    "yvalue = widgets.Textarea(value='', layout=widgets.Layout(width='auto'))\n",
    "display(posText)\n",
    "display(xvalue)\n",
    "display(yvalue)\n",
    "\n",
    "# Class to visualize the robot position\n",
    "class Visualiser:\n",
    "\tdef __init__(self):\n",
    "\t\tself.fig, self.ax = plt.subplots()\n",
    "\t\tself.ln, = plt.plot([], [], 'ro')\n",
    "\t\tself.ln_goal, = plt.plot([], [], 'kD')\n",
    "\t\tself.x_data, self.y_data = [0]*100 , [0]*100\n",
    "\t\tself.index = 0\n",
    "\t\tself.goal_x, self.goal_y = 11, 11\n",
    "\n",
    "\t\t# Title and labels\n",
    "\t\tself.ax.set_title('Robot position')\n",
    "\t\tself.ax.set_xlabel('X axis')\n",
    "\t\tself.ax.set_ylabel('Y axis')\n",
    "\n",
    "        # Use gridlines\n",
    "\t\tself.ax.grid(True)\n",
    "\n",
    "\tdef plot_init(self):\n",
    "\t\tself.ax.set_xlim(-10, 10)\n",
    "\t\tself.ax.set_ylim(-10, 10)\n",
    "\t\treturn self.ln,\n",
    "\t\t\n",
    "\tdef odom_callback(self, msg):\n",
    "\t\tself.y_data[self.index] = msg.pose.pose.position.y\n",
    "\t\tself.x_data[self.index] = msg.pose.pose.position.x\n",
    "\t\txvalue.value = 'x = ' + format(msg.pose.pose.position.x, '.3f')\n",
    "\t\tyvalue.value = 'y = ' + format(msg.pose.pose.position.y, '.3f')\n",
    "\t\tself.index = (self.index + 1) % 100\n",
    "\n",
    "\tdef update_plot(self, frame):\n",
    "\t\tself.x_data, self.y_data = ensure_same_length(self.x_data, self.y_data)\n",
    "\t\tself.ln.set_data(self.x_data, self.y_data)\n",
    "\t\tif goalSet:\n",
    "\t\t\tif not goalReached or goalSet[-1] != goalReached[-1]:\n",
    "\t\t\t\tself.goal_x = goalSet[-1][0]\n",
    "\t\t\t\tself.goal_y = goalSet[-1][1]\n",
    "\t\t\telse:\n",
    "\t\t\t\tself.goal_x = 11\n",
    "\t\t\t\tself.goal_y = 11\n",
    "\t\n",
    "\t\treturn self.ln, self.ln_goal"
   ]
  },
  {
   "cell_type": "code",
   "execution_count": 8,
   "metadata": {
    "metadata": {}
   },
   "outputs": [
    {
     "data": {
      "application/vnd.jupyter.widget-view+json": {
       "model_id": "0e4b566fec7145799852af0f6223c708",
       "version_major": 2,
       "version_minor": 0
      },
      "image/png": "[encoded data removed]",
      "text/html": [
       "\n",
       "            <div style=\"display: inline-block;\">\n",
       "                <div class=\"jupyter-widgets widget-label\" style=\"text-align: center;\">\n",
       "                    Figure\n",
       "                </div>\n",
       "                <img src='data:image/png;base64,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' width=640.0/>\n",
       "            </div>\n",
       "        "
      ],
      "text/plain": [
       "Canvas(toolbar=Toolbar(toolitems=[('Home', 'Reset original view', 'home', 'home'), ('Back', 'Back to previous …"
      ]
     },
     "metadata": {},
     "output_type": "display_data"
    }
   ],
   "source": [
    "# Create the visualiser object\n",
    "vis = Visualiser()\n",
    "sub = rospy.Subscriber('/odom', Odometry, vis.odom_callback)\n",
    "ani = FuncAnimation(vis.fig, vis.update_plot, init_func=vis.plot_init)\n",
    "plt.show(block=True)"
   ]
  },
  {
   "cell_type": "markdown",
   "metadata": {},
   "source": [
    "### Goal Reached vs Goal Canceled\n",
    "This section of the user interface shows the statistic of the number of achieved, deleted and not yet achieved goals (corresponds to the goal set last that does not belong to either category). The statistic is displayed immediately after pressing the button.\n",
    "This architecture derives from the idea that the goal statistics do not need to be updated continuously, but only at the moment when the user is interested in seeing the specific, instantaneous data without it being bypassed at an undesired moment."
   ]
  },
  {
   "cell_type": "code",
   "execution_count": 9,
   "metadata": {},
   "outputs": [
    {
     "data": {
      "application/vnd.jupyter.widget-view+json": {
       "model_id": "a53fa575cc4f441cbd83dae767664c8b",
       "version_major": 2,
       "version_minor": 0
      },
      "text/plain": [
       "Box(children=(Button(description='Show histogram reached vs canceled vs not reached', layout=Layout(display='f…"
      ]
     },
     "metadata": {},
     "output_type": "display_data"
    },
    {
     "data": {
      "application/vnd.jupyter.widget-view+json": {
       "model_id": "0f21feb5c83647e7bca12b9b56c6f883",
       "version_major": 2,
       "version_minor": 0
      },
      "text/plain": [
       "Output()"
      ]
     },
     "metadata": {},
     "output_type": "display_data"
    }
   ],
   "source": [
    "# Showing the goal status\n",
    "btthist = widgets.Button(description='Show histogram reached vs canceled vs not reached', \n",
    "                         layout=widgets.Layout(width='auto', display='flex', justify_content='center'), \n",
    "                         style=widgets.ButtonStyle(button_color='green', font_weight='bold', color='white'))\n",
    "boxhist = widgets.Box([btthist])\n",
    "boxhist.layout = widgets.Layout(display='flex', justify_content='center', width='100%')\n",
    "out = widgets.Output()\n",
    "display(boxhist, out)\n",
    "\n",
    "def on_button_clicked_hist(b):\n",
    "    with out:\n",
    "        out.clear_output() # clear the older histogram\n",
    "        plt.figure() # create a new figure\n",
    "        set = len(goalSet)\n",
    "        reached = len(goalReached)\n",
    "        canc = len(goalCanc)\n",
    "        not_reached = set - reached - canc\n",
    "        index = np.arange(1);\n",
    "        plt.bar(index, set, align='edge', width=0.3, alpha=0.40,\n",
    "        color='b', label='Set')\n",
    "        plt.bar(index+0.35, reached, align='edge', width=0.3,\n",
    "        alpha=0.40, color='r', label='Reached')\n",
    "        plt.bar(index+0.70, canc, align='edge', width=0.3,\n",
    "        alpha=0.40, color='g', label='Canceled')\n",
    "        plt.bar(index+1.05, not_reached, align='edge', width=0.3,\n",
    "        alpha=0.40, color='y', label='Not Reached')\n",
    "\n",
    "        plt.xlabel('Type of action')\n",
    "        plt.ylabel('Number of goals')\n",
    "        plt.title('Goal reached vs canceled vs not reached')\n",
    "        plt.legend()\n",
    "        plt.show()\n",
    "        \n",
    "\n",
    "btthist.on_click(on_button_clicked_hist)"
   ]
  },
  {
   "cell_type": "markdown",
   "metadata": {},
   "source": [
    "###"
   ]
  }
 ],
 "metadata": {
  "kernelspec": {
   "display_name": "Python 3 (ipykernel)",
   "language": "python",
   "name": "python3"
  },
  "language_info": {
   "codemirror_mode": {
    "name": "ipython",
    "version": 3
   },
   "file_extension": ".py",
   "mimetype": "text/x-python",
   "name": "python",
   "nbconvert_exporter": "python",
   "pygments_lexer": "ipython3",
   "version": "3.10.12"
  }
 },
 "nbformat": 4,
 "nbformat_minor": 4
}
