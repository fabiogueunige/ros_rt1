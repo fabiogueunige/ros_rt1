{
 "cells": [
  {
   "cell_type": "markdown",
   "metadata": {},
   "source": [
    "# Action Client node with Jupyter "
   ]
  },
  {
   "cell_type": "markdown",
   "metadata": {},
   "source": [
    "### Import"
   ]
  },
  {
   "cell_type": "code",
   "execution_count": null,
   "metadata": {},
   "outputs": [],
   "source": [
    "import rospy\n",
    "import assignment_2_2023.msg\n",
    "from assignment_2_2023.msg import GoalCoord\n",
    "from assignment_2_2023.srv import CancelGoal, CancelGoalResponse\n",
    "from turtlesim.msg import Pose\n",
    "from nav_msgs.msg import Odometry\n",
    "import time\n",
    "import numpy as np\n",
    "import matplotlib as mpl\n",
    "import matplotlib.pyplot as plt\n",
    "import math"
   ]
  },
  {
   "cell_type": "markdown",
   "metadata": {},
   "source": [
    "### New Imports"
   ]
  },
  {
   "cell_type": "code",
   "execution_count": null,
   "metadata": {},
   "outputs": [],
   "source": [
    "#import jupyros as jr\n",
    "#from jupyros import ros3d\n",
    "import os\n",
    "from ipywidgets import Button, Layout, ButtonStyle, GridBox, VBox, HBox\n",
    "from ipywidgets import interact, interactive, fixed, interact_manual\n",
    "import ipywidgets as widgets\n",
    "from IPython.display import display"
   ]
  },
  {
   "cell_type": "markdown",
   "metadata": {},
   "source": [
    "### Init of the node"
   ]
  },
  {
   "cell_type": "code",
   "execution_count": null,
   "metadata": {
    "metadata": {}
   },
   "outputs": [],
   "source": [
    "time.sleep(1)\n",
    "\n",
    "# Initialize the node\n",
    "rospy.init_node('user_interface')\n",
    "\n",
    "\n",
    "\n",
    "# Goal insert by the user publisher\n",
    "pubgoal = rospy.Publisher('/goal_coord', GoalCoord, queue_size=1)\n",
    "\n",
    "# wait for the service to be available\n",
    "rospy.wait_for_service('/cancel_goal')\n",
    "cancgoalServ = rospy.ServiceProxy('/cancel_goal', CancelGoal)\n",
    "\n",
    "welcText = widgets.Textarea(value='Hi, welcome to the robot planner simulation!!', layout=widgets.Layout(width='auto'))\n",
    "display(welcText)\n",
    "\n",
    "goalSet = [] # All goal set by the user\n",
    "goalCanc = [] # All goal canceled by the user\n",
    "goalReached = [] # All goal reached by the robot\n",
    "\n",
    "# response = cancel_goal_service() to call it "
   ]
  },
  {
   "cell_type": "markdown",
   "metadata": {},
   "source": [
    "## Odom subscription\n",
    "Subscriber to check if the goal has been reached\n",
    "change the boolean with a check between the length oh goal_reached and the number of goalSet deleting the boolean that doesn't work"
   ]
  },
  {
   "cell_type": "code",
   "execution_count": null,
   "metadata": {},
   "outputs": [],
   "source": [
    "def goal_reach_callback (msg):\n",
    "    global goalReach\n",
    "\n",
    "    if goalSet and goalReach == False:\n",
    "        if msg.pose.pose.position.x - 0.5 < goalSet[-1][0] < msg.pose.pose.position.x + 0.5 and msg.pose.pose.position.y - 0.5 < goalSet[-1][1] < msg.pose.pose.position.y + 0.5:\n",
    "            goalReached.append(goalSet[-1])\n",
    "            print(goalReach)\n",
    "            goalReach = True\n",
    "            \n",
    "\n",
    "subpos = rospy.Subscriber('/odom', Odometry, goal_reach_callback)"
   ]
  },
  {
   "cell_type": "markdown",
   "metadata": {},
   "source": [
    "### Init of the user Interface\n",
    "Starting the interaction with the user throuh widgets to let him set the goal"
   ]
  },
  {
   "cell_type": "code",
   "execution_count": null,
   "metadata": {
    "metadata": {}
   },
   "outputs": [],
   "source": [
    "introText = widgets.Textarea(value='Please choose the goal position you want to reach with the robot.', \n",
    "                             layout=widgets.Layout(width='auto'))\n",
    "display(introText)\n",
    "xdes = widgets.Text(value='Choose the x coordinate:')\n",
    "xgoal = widgets.IntSlider(\n",
    "    value = 0,\n",
    "    min = -8,\n",
    "    max = 8,\n",
    "    step = 1,\n",
    "    layout=widgets.Layout(width='auto')\n",
    ")\n",
    "display(xdes, xgoal)\n",
    "ydes = widgets.Text(value='Choose the y coordinate:')\n",
    "ygoal = widgets.IntSlider(\n",
    "    value = 0,\n",
    "    min = -8,\n",
    "    max = 8,\n",
    "    step = 1,\n",
    "    layout=widgets.Layout(width='auto')\n",
    ")\n",
    "display(ydes, ygoal)\n",
    "bttgoal = widgets.Button(description='Send goal', \n",
    "                         layout=widgets.Layout(width='auto', display='flex', justify_content='center'), \n",
    "                         style=widgets.ButtonStyle(button_color='red', font_weight='bold', color='white'))\n",
    "box = widgets.Box([bttgoal])\n",
    "box.layout = widgets.Layout(display='flex', justify_content='center', width='100%')\n",
    "out = widgets.Output()\n",
    "display(box, out)\n",
    "\n",
    "# Function to send the goal to the robot (modifica i print)\n",
    "def on_button_clicked_set(b):\n",
    "    global goalReach\n",
    "    with out:\n",
    "        if xgoal.value == None or ygoal.value == None:\n",
    "            print('Please insert a valid number')\n",
    "        else:\n",
    "            goal = GoalCoord()\n",
    "            goal.coord_x = xgoal.value\n",
    "            goal.coord_y = ygoal.value\n",
    "            pubgoal.publish(goal)\n",
    "            goalSet.append([xgoal.value, ygoal.value])\n",
    "            goalReach = False\n",
    "            print('Goal sent to the robot')\n",
    "\n",
    "bttgoal.on_click(on_button_clicked_set)\n"
   ]
  },
  {
   "cell_type": "markdown",
   "metadata": {},
   "source": [
    "Interaction with the user throuh widgets to let him cancel the goal\n",
    "\n",
    "Check the service and the serviceproxy and understand how to do it to have the return string to know the status of the request and send it back"
   ]
  },
  {
   "cell_type": "code",
   "execution_count": null,
   "metadata": {
    "metadata": {}
   },
   "outputs": [],
   "source": [
    "cancText = widgets.Textarea(value='Here you can cancel the the latest goal', \n",
    "                             layout=widgets.Layout(width='auto'))\n",
    "display(cancText)\n",
    "bttcanc = widgets.Button(description='Cancel goal', \n",
    "                         layout=widgets.Layout(width='auto', display='flex', justify_content='center'), \n",
    "                         style=widgets.ButtonStyle(button_color='purple', font_weight='bold', color='black'))\n",
    "boxcanc = widgets.Box([bttcanc])\n",
    "boxcanc.layout = widgets.Layout(display='flex', justify_content='center', width='100%')\n",
    "out = widgets.Output()\n",
    "display(boxcanc, out)\n",
    "\n",
    "def on_button_clicked_canc(b):\n",
    "    global goalReach\n",
    "    with out:\n",
    "        if len(goalSet) == 0:\n",
    "            print('No goal to cancel')\n",
    "        else:\n",
    "            status = cancgoalServ()\n",
    "            # perform the control\n",
    "            print(\"status = \", status.stat)\n",
    "            if (status.stat == \"Done\"):\n",
    "                goalCanc.append(goalSet[-1])\n",
    "                goalReach = True\n",
    "                print('Goal cancelled')\n",
    "            elif (status.stat == \"Reached\"):\n",
    "                print('Goal not cancelled becouse already reached')\n",
    "            else:\n",
    "                print('Goal not cancelled, errror occoured')\n",
    "\n",
    "\n",
    "bttcanc.on_click(on_button_clicked_canc)\n"
   ]
  },
  {
   "cell_type": "markdown",
   "metadata": {},
   "source": [
    "Ass IIA: Try using widgets to let the user know the position of the robot and all targets that have been set and\n",
    "cancelled in the environment\n",
    "\n",
    "Ass IIB: by using the FuncAnimation for plotting the robot\n",
    "position\n",
    "- Add also a plot for the number of reached/not-reached targets\n",
    " \n",
    "In the end, the notebook should have:\n",
    "- an interface to assign (or cancel) goals to the robot\n",
    "- a plot with the robot’s position and targets’ positions in the environment\n",
    "- a plot for the number of reached/not-reached targets"
   ]
  },
  {
   "cell_type": "code",
   "execution_count": null,
   "metadata": {},
   "outputs": [],
   "source": [
    "%matplotlib widget\n",
    "import matplotlib.pyplot as plt\n",
    "import rospy\n",
    "import tf\n",
    "from tf.transformations import quaternion_matrix\n",
    "import numpy as np\n",
    "from matplotlib.animation import FuncAnimation\n",
    "\n",
    "def ensure_same_length(list1, list2):\n",
    "    if len(list1) > len(list2):\n",
    "        list1 = list1[:len(list2)]\n",
    "    elif len(list2) > len(list1):\n",
    "        list2 = list2[:len(list1)]\n",
    "    return list1, list2\n",
    "\n",
    "class Visualiser:\n",
    "\tdef __init__(self):\n",
    "\t\tself.fig, self.ax = plt.subplots()\n",
    "\t\tself.ln, = plt.plot([], [], 'ro')\n",
    "\t\tself.x_data, self.y_data = [] , []\n",
    "\n",
    "\tdef plot_init(self):\n",
    "\t\tself.ax.set_xlim(-10, 10)\n",
    "\t\tself.ax.set_ylim(-10, 10)\n",
    "\t\treturn self.ln,\n",
    "\t\t\n",
    "\tdef odom_callback(self, msg):\n",
    "\t\tself.y_data.append(msg.pose.pose.position.y)\n",
    "\t\tself.x_data.append(msg.pose.pose.position.x)\n",
    "\n",
    "\tdef update_plot(self, frame):\n",
    "\t\tself.x_data, self.y_data = ensure_same_length(self.x_data, self.y_data)\n",
    "\t\tself.ln.set_data(self.x_data, self.y_data)\n",
    "\t\treturn self.ln,"
   ]
  },
  {
   "cell_type": "markdown",
   "metadata": {},
   "source": [
    "# ATTENZIONE\n",
    "Migliora il grafico con tutte cosee più belline\n",
    "Mostra i valori dele coordinate\n",
    "\n",
    "Mostra le tre liste\n",
    "Mostra grafico per le tre liste\n"
   ]
  },
  {
   "cell_type": "code",
   "execution_count": null,
   "metadata": {
    "metadata": {}
   },
   "outputs": [],
   "source": [
    "vis = Visualiser()\n",
    "sub = rospy.Subscriber('/odom', Odometry, vis.odom_callback)\n",
    "ani = FuncAnimation(vis.fig, vis.update_plot, init_func=vis.plot_init)\n",
    "plt.show(block=True)"
   ]
  }
 ],
 "metadata": {
  "kernelspec": {
   "display_name": "Python 3 (ipykernel)",
   "language": "python",
   "name": "python3"
  },
  "language_info": {
   "codemirror_mode": {
    "name": "ipython",
    "version": 3
   },
   "file_extension": ".py",
   "mimetype": "text/x-python",
   "name": "python",
   "nbconvert_exporter": "python",
   "pygments_lexer": "ipython3",
   "version": "3.10.12"
  }
 },
 "nbformat": 4,
 "nbformat_minor": 4
}
