{
 "cells": [
  {
   "cell_type": "markdown",
   "metadata": {},
   "source": [
    "# Action Client node with Jupyter "
   ]
  },
  {
   "cell_type": "markdown",
   "metadata": {},
   "source": [
    "### Import code"
   ]
  },
  {
   "cell_type": "code",
   "execution_count": 1,
   "metadata": {},
   "outputs": [],
   "source": [
    "import rospy\n",
    "import ipywidgets as widgets\n",
    "from nav_msgs.msg import Odometry\n",
    "import actionlib\n",
    "import actionlib.msg\n",
    "import assignment_2_2023.msg\n",
    "from assignment_2_2023.msg import Robotinfo, Robotinfofeet\n",
    "from actionlib_msgs.msg import GoalStatus\n",
    "from assignment_2_2023.srv import CancelGoal, CancelGoalResponse\n",
    "import time\n",
    "import numpy as np\n",
    "import matplotlib as mpl\n",
    "import matplotlib.pyplot as plt"
   ]
  },
  {
   "cell_type": "markdown",
   "metadata": {},
   "source": [
    "### New Imports"
   ]
  },
  {
   "cell_type": "markdown",
   "metadata": {},
   "source": []
  },
  {
   "cell_type": "markdown",
   "metadata": {},
   "source": [
    "### Global variables"
   ]
  },
  {
   "cell_type": "code",
   "execution_count": 2,
   "metadata": {},
   "outputs": [],
   "source": [
    "subPos = None  \n",
    "clienttar = None\n",
    "servCancGoal = None"
   ]
  },
  {
   "cell_type": "markdown",
   "metadata": {},
   "source": [
    "### pos_callback"
   ]
  },
  {
   "cell_type": "code",
   "execution_count": null,
   "metadata": {},
   "outputs": [],
   "source": [
    "def pos_callback(msg):\n",
    "    global subPos"
   ]
  },
  {
   "cell_type": "markdown",
   "metadata": {},
   "source": [
    "### Init of the variouse variables"
   ]
  },
  {
   "cell_type": "code",
   "execution_count": 4,
   "metadata": {},
   "outputs": [
    {
     "data": {
      "text/plain": [
       "' Publisher for the robot information in feet\\n'"
      ]
     },
     "execution_count": 4,
     "metadata": {},
     "output_type": "execute_result"
    }
   ],
   "source": [
    "\"\"\"\n",
    "    This function initializes the nodes and calls the action client function.\n",
    "    This also initializes the publisher and subscriber for the robot information, the service for the goal canceling and the action to reach the goal.\n",
    "\"\"\"\n",
    "global subPos, clienttar, servCancGoal\n",
    "\n",
    "# Wait for gazebo to be up and running\n",
    "time.sleep(1)\n",
    "\n",
    "# Initialize the node\n",
    "rospy.init_node('user_interface')\n",
    "\n",
    "# Create the service Client\n",
    "clienttar = actionlib.SimpleActionClient('/reaching_goal',assignment_2_2023.msg.PlanningAction)\n",
    "\"\"\" Client for the action server reaching_goal\n",
    "\"\"\"\n",
    "\n",
    "# Service to cancel the goal\n",
    "servCancGoal = rospy.ServiceProxy('/cancel_goal', CancelGoal) #  goal_canceling_service va aggiunto?\n",
    "\"\"\" Service to cancel the goal\n",
    "\"\"\"\n",
    "\n",
    "# Call the subscriber from Odom for position and velocity\n",
    "subPos = rospy.Subscriber('/odom', Odometry, pos_callback)\n",
    "\"\"\" Subscriber for the position\n",
    "\"\"\""
   ]
  },
  {
   "cell_type": "markdown",
   "metadata": {},
   "source": [
    "### Insert number for the target\n",
    "\n",
    "va completamente cambiata e inseriti i widgets"
   ]
  },
  {
   "cell_type": "code",
   "execution_count": 5,
   "metadata": {},
   "outputs": [],
   "source": [
    "def insertNumber():\n",
    "    \"\"\"\n",
    "    Function to take the input from the user to know the coordinates of the goal\n",
    "\n",
    "    Returns\n",
    "    -------\n",
    "    inpx : float\n",
    "        x coordinate of the goal    \n",
    "    inpy : float    \n",
    "        y coordinate of the goal\n",
    "    \"\"\"\n",
    "    while(1):\n",
    "        inpx = input(\"x: \")\n",
    "        try:\n",
    "            inpx = float(inpx)\n",
    "            break\n",
    "        except:\n",
    "            print(\"Please insert a valid number\")\n",
    "    while(1):\n",
    "        inpy = input(\"y: \")\n",
    "        try:\n",
    "            inpy = float(inpy)\n",
    "            break\n",
    "        except:\n",
    "            print(\"Please insert a valid number\")\n",
    "    return inpx, inpy"
   ]
  },
  {
   "cell_type": "markdown",
   "metadata": {},
   "source": [
    "### goal cancelling service"
   ]
  },
  {
   "cell_type": "code",
   "execution_count": 6,
   "metadata": {},
   "outputs": [],
   "source": [
    "def goal_canceling_service(req):\n",
    "    \"\"\"\n",
    "    Service to cancel the goal\n",
    "    \n",
    "    Args:\n",
    "    req (CancelGoal): request to cancel the goal\n",
    "    \"\"\"\n",
    "    \n",
    "    global servCancGoal\n",
    "\n",
    "    rospy.wait_for_service('/cancel_goal')\n",
    "\n",
    "    response = CancelGoalResponse()\n",
    "\n",
    "    \n",
    "    try: \n",
    "        clienttar.cancel_goal() \n",
    "        response.stat = \"Done\"\n",
    "    except:\n",
    "        response.stat = \"Error\"\n",
    "    \n",
    "    return response"
   ]
  },
  {
   "cell_type": "markdown",
   "metadata": {},
   "source": [
    "### Action Client definition"
   ]
  },
  {
   "cell_type": "code",
   "execution_count": 7,
   "metadata": {},
   "outputs": [
    {
     "name": "stdout",
     "output_type": "stream",
     "text": [
      "Hi, welcome to the robot planner simulation\n",
      "Please choose the position you want to reach with the robot\n",
      "Insert the coordinates to reach as \n",
      "Please insert a valid number\n",
      "You sent the goal with: X =  7.0  Y =  7.0\n"
     ]
    }
   ],
   "source": [
    "\"\"\"\n",
    "Function to implement the action client\n",
    "\"\"\"\n",
    "\n",
    "global clienttar, servCancGoal\n",
    "\n",
    "# Wait until the action server is up and running.\n",
    "clienttar.wait_for_server()\n",
    "\n",
    "\n",
    "# User interface (from here modify)\n",
    "print(\"Hi, welcome to the robot planner simulation\")\n",
    "print(\"Please choose the position you want to reach with the robot\")\n",
    "print(\"Insert the coordinates to reach as \")\n",
    "\n",
    "# Create a goal to send (to the action server)\n",
    "goal = assignment_2_2023.msg.PlanningGoal()\n",
    "\n",
    "# Implements the coordinates acquisition\n",
    "inpx, inpy = insertNumber()\n",
    "\n",
    "# Update the goal\n",
    "goal.target_pose.pose.position.x = inpx\n",
    "goal.target_pose.pose.position.y = inpy\n",
    "\n",
    "# Sending the goal\n",
    "clienttar.send_goal(goal)\n",
    "# print(\"You sent the goal with: X = \", goal.target_pose.pose.position.x,\" Y = \", goal.target_pose.pose.position.y)\n",
    "\n",
    "while not rospy.is_shutdown(): \n",
    "    # Input from the user\n",
    "    choice = input(\"Do you want to insert a new goal? (y/n) \")\n",
    "    if (choice == 'y'):\n",
    "        # Implements the coordinates acquisition\n",
    "        inpx, inpy = insertNumber()\n",
    "\n",
    "        # Update the goal\n",
    "        goal.target_pose.pose.position.x = inpx\n",
    "        goal.target_pose.pose.position.y = inpy\n",
    "\n",
    "        # Send the goal\n",
    "        clienttar.send_goal(goal)\n",
    "        print(\"You sent the goal with: X = \", goal.target_pose.pose.position.x,\" Y = \", goal.target_pose.pose.position.y)\n",
    "    else:\n",
    "        choice = input(\"Do you want to cancel the previouse goal and restore ? (y/n) \")\n",
    "        if (choice == 'y'):\n",
    "            if (clienttar.get_state() == GoalStatus.ACTIVE):\n",
    "                print(\"You canceled the goal with: X = \", goal.target_pose.pose.position.x,\" Y = \", goal.target_pose.pose.position.y)\n",
    "                clienttar.cancel_goal() \n",
    "            else:\n",
    "                print(\"The goal has already finished or it was already canceled\")\n",
    "        else:\n",
    "            print(\"No Operations has been done\")"
   ]
  }
 ],
 "metadata": {
  "kernelspec": {
   "display_name": "Python 3 (ipykernel)",
   "language": "python",
   "name": "python3"
  },
  "language_info": {
   "codemirror_mode": {
    "name": "ipython",
    "version": 3
   },
   "file_extension": ".py",
   "mimetype": "text/x-python",
   "name": "python",
   "nbconvert_exporter": "python",
   "pygments_lexer": "ipython3",
   "version": "3.10.12"
  }
 },
 "nbformat": 4,
 "nbformat_minor": 4
}
