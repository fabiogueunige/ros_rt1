{
 "cells": [
  {
   "cell_type": "markdown",
   "metadata": {},
   "source": [
    "# Action Client node with Jupyter "
   ]
  },
  {
   "cell_type": "markdown",
   "metadata": {},
   "source": [
    "### Import"
   ]
  },
  {
   "cell_type": "code",
   "execution_count": 1,
   "metadata": {},
   "outputs": [],
   "source": [
    "import rospy\n",
    "import assignment_2_2023.msg\n",
    "from assignment_2_2023.msg import GoalCoord\n",
    "from assignment_2_2023.srv import CancelGoal, CancelGoalResponse\n",
    "import time\n",
    "import numpy as np\n",
    "import matplotlib as mpl\n",
    "import matplotlib.pyplot as plt\n",
    "import math"
   ]
  },
  {
   "cell_type": "markdown",
   "metadata": {},
   "source": [
    "### New Imports"
   ]
  },
  {
   "cell_type": "code",
   "execution_count": 2,
   "metadata": {},
   "outputs": [],
   "source": [
    "%matplotlib widget\n",
    "#import jupyros as jr\n",
    "#from jupyros import ros3d\n",
    "import os\n",
    "from ipywidgets import Button, Layout, ButtonStyle, GridBox, VBox, HBox\n",
    "from ipywidgets import interact, interactive, fixed, interact_manual\n",
    "import ipywidgets as widgets\n",
    "from IPython.display import display"
   ]
  },
  {
   "cell_type": "markdown",
   "metadata": {},
   "source": [
    "### Init of the node"
   ]
  },
  {
   "cell_type": "code",
   "execution_count": 3,
   "metadata": {},
   "outputs": [
    {
     "data": {
      "application/vnd.jupyter.widget-view+json": {
       "model_id": "d839a8aa445f4b52a5e0658e7390e753",
       "version_major": 2,
       "version_minor": 0
      },
      "text/plain": [
       "Textarea(value='Hi, welcome to the robot planner simulation!!', layout=Layout(width='auto'))"
      ]
     },
     "metadata": {},
     "output_type": "display_data"
    }
   ],
   "source": [
    "time.sleep(1)\n",
    "\n",
    "# Initialize the node\n",
    "rospy.init_node('user_interface')\n",
    "\n",
    "\n",
    "\n",
    "# Goal insert by the user publisher\n",
    "pubgoal = rospy.Publisher('/goal_coord', GoalCoord, queue_size=1)\n",
    "\n",
    "# wait for the service to be available\n",
    "rospy.wait_for_service('/cancel_goal')\n",
    "cancgoalServ = rospy.ServiceProxy('/cancel_goal', CancelGoal)\n",
    "\n",
    "# Keep the node running\n",
    "#rospy.spin()\n",
    "\n",
    "welcText = widgets.Textarea(value='Hi, welcome to the robot planner simulation!!', layout=widgets.Layout(width='auto'))\n",
    "display(welcText)\n",
    "\n",
    "goalSet = []\n",
    "goalCanc = []\n",
    "# response = cancel_goal_service() to call it "
   ]
  },
  {
   "cell_type": "markdown",
   "metadata": {},
   "source": [
    "### Init of the user Interface\n",
    "Starting the interaction with the user throuh widgets to let him set the goal"
   ]
  },
  {
   "cell_type": "code",
   "execution_count": 4,
   "metadata": {},
   "outputs": [
    {
     "data": {
      "application/vnd.jupyter.widget-view+json": {
       "model_id": "053cee42c4e848fc926bda1615468130",
       "version_major": 2,
       "version_minor": 0
      },
      "text/plain": [
       "Textarea(value='Please choose the goal position you want to reach with the robot.', layout=Layout(width='auto'…"
      ]
     },
     "metadata": {},
     "output_type": "display_data"
    },
    {
     "data": {
      "application/vnd.jupyter.widget-view+json": {
       "model_id": "846f3a28d661426aa18251679d21d4c6",
       "version_major": 2,
       "version_minor": 0
      },
      "text/plain": [
       "Text(value='Choose the x coordinate:')"
      ]
     },
     "metadata": {},
     "output_type": "display_data"
    },
    {
     "data": {
      "application/vnd.jupyter.widget-view+json": {
       "model_id": "f113f7576ad14144b17140d94668e036",
       "version_major": 2,
       "version_minor": 0
      },
      "text/plain": [
       "IntSlider(value=0, layout=Layout(width='auto'), max=8, min=-8)"
      ]
     },
     "metadata": {},
     "output_type": "display_data"
    },
    {
     "data": {
      "application/vnd.jupyter.widget-view+json": {
       "model_id": "4a6b824c54384d02ba021a135f4fe9ca",
       "version_major": 2,
       "version_minor": 0
      },
      "text/plain": [
       "Text(value='Choose the y coordinate:')"
      ]
     },
     "metadata": {},
     "output_type": "display_data"
    },
    {
     "data": {
      "application/vnd.jupyter.widget-view+json": {
       "model_id": "97dc6e8170964a8f901d59b02e15f095",
       "version_major": 2,
       "version_minor": 0
      },
      "text/plain": [
       "IntSlider(value=0, layout=Layout(width='auto'), max=8, min=-8)"
      ]
     },
     "metadata": {},
     "output_type": "display_data"
    },
    {
     "data": {
      "application/vnd.jupyter.widget-view+json": {
       "model_id": "eb8d4aef71254a08a98387b5215ca51d",
       "version_major": 2,
       "version_minor": 0
      },
      "text/plain": [
       "Box(children=(Button(description='Send goal', layout=Layout(display='flex', justify_content='center', width='a…"
      ]
     },
     "metadata": {},
     "output_type": "display_data"
    },
    {
     "data": {
      "application/vnd.jupyter.widget-view+json": {
       "model_id": "c93daa090d5b4c90803b27075d2ef5f7",
       "version_major": 2,
       "version_minor": 0
      },
      "text/plain": [
       "Output()"
      ]
     },
     "metadata": {},
     "output_type": "display_data"
    }
   ],
   "source": [
    "introText = widgets.Textarea(value='Please choose the goal position you want to reach with the robot.', \n",
    "                             layout=widgets.Layout(width='auto'))\n",
    "display(introText)\n",
    "xdes = widgets.Text(value='Choose the x coordinate:')\n",
    "xgoal = widgets.IntSlider(\n",
    "    value = 0,\n",
    "    min = -8,\n",
    "    max = 8,\n",
    "    step = 1,\n",
    "    layout=widgets.Layout(width='auto')\n",
    ")\n",
    "display(xdes, xgoal)\n",
    "ydes = widgets.Text(value='Choose the y coordinate:')\n",
    "ygoal = widgets.IntSlider(\n",
    "    value = 0,\n",
    "    min = -8,\n",
    "    max = 8,\n",
    "    step = 1,\n",
    "    layout=widgets.Layout(width='auto')\n",
    ")\n",
    "display(ydes, ygoal)\n",
    "bttgoal = widgets.Button(description='Send goal', \n",
    "                         layout=widgets.Layout(width='auto', display='flex', justify_content='center'), \n",
    "                         style=widgets.ButtonStyle(button_color='red', font_weight='bold', color='white'))\n",
    "box = widgets.Box([bttgoal])\n",
    "box.layout = widgets.Layout(display='flex', justify_content='center', width='100%')\n",
    "out = widgets.Output()\n",
    "display(box, out)\n",
    "\n",
    "# Function to send the goal to the robot (modifica i print)\n",
    "def on_button_clicked_set(b):\n",
    "    with out:\n",
    "        if xgoal.value == None or ygoal.value == None:\n",
    "            print('Please insert a valid number')\n",
    "        else:\n",
    "            goal = GoalCoord()\n",
    "            goal.coord_x = xgoal.value\n",
    "            goal.coord_y = ygoal.value\n",
    "            pubgoal.publish(goal)\n",
    "            goalSet.append([xgoal.value, ygoal.value])\n",
    "            print('Goal sent to the robot')\n",
    "\n",
    "bttgoal.on_click(on_button_clicked_set)\n"
   ]
  },
  {
   "cell_type": "markdown",
   "metadata": {},
   "source": [
    "Interaction with the user throuh widgets to let him cancel the goal\n",
    "\n",
    "Check the service and the serviceproxy and understand how to do it to have the return string to know the status of the request and send it back"
   ]
  },
  {
   "cell_type": "code",
   "execution_count": 5,
   "metadata": {},
   "outputs": [
    {
     "data": {
      "application/vnd.jupyter.widget-view+json": {
       "model_id": "084915617af34859a5e01bb5a17d2186",
       "version_major": 2,
       "version_minor": 0
      },
      "text/plain": [
       "Textarea(value='Here you can cancel the the latest goal', layout=Layout(width='auto'))"
      ]
     },
     "metadata": {},
     "output_type": "display_data"
    },
    {
     "data": {
      "application/vnd.jupyter.widget-view+json": {
       "model_id": "c49efb5a6f1a4a8c93dee814363ed24f",
       "version_major": 2,
       "version_minor": 0
      },
      "text/plain": [
       "Box(children=(Button(description='Cancel goal', layout=Layout(display='flex', justify_content='center', width=…"
      ]
     },
     "metadata": {},
     "output_type": "display_data"
    },
    {
     "data": {
      "application/vnd.jupyter.widget-view+json": {
       "model_id": "657acf5a631a4bfda3b779d5bb89637c",
       "version_major": 2,
       "version_minor": 0
      },
      "text/plain": [
       "Output()"
      ]
     },
     "metadata": {},
     "output_type": "display_data"
    }
   ],
   "source": [
    "cancText = widgets.Textarea(value='Here you can cancel the the latest goal', \n",
    "                             layout=widgets.Layout(width='auto'))\n",
    "display(cancText)\n",
    "bttcanc = widgets.Button(description='Cancel goal', \n",
    "                         layout=widgets.Layout(width='auto', display='flex', justify_content='center'), \n",
    "                         style=widgets.ButtonStyle(button_color='purple', font_weight='bold', color='black'))\n",
    "boxcanc = widgets.Box([bttcanc])\n",
    "boxcanc.layout = widgets.Layout(display='flex', justify_content='center', width='100%')\n",
    "out = widgets.Output()\n",
    "display(boxcanc, out)\n",
    "\n",
    "def on_button_clicked_canc(b):\n",
    "    with out:\n",
    "        if len(goalSet) == 0:\n",
    "            print('No goal to cancel')\n",
    "        else:\n",
    "            status = cancgoalServ()\n",
    "            # perform the control\n",
    "            print(\"status = \", status.stat)\n",
    "            if (status.stat == \"Done\"):\n",
    "                goalCanc.append(goalSet[-1])\n",
    "                print('Goal cancelled')\n",
    "            elif (status.stat == \"Reached\"):\n",
    "                print('Goal not cancelled becouse already reached')\n",
    "            else:\n",
    "                print('Goal not cancelled, errror occoured')\n",
    "\n",
    "\n",
    "bttcanc.on_click(on_button_clicked_canc)\n"
   ]
  }
 ],
 "metadata": {
  "kernelspec": {
   "display_name": "Python 3 (ipykernel)",
   "language": "python",
   "name": "python3"
  },
  "language_info": {
   "codemirror_mode": {
    "name": "ipython",
    "version": 3
   },
   "file_extension": ".py",
   "mimetype": "text/x-python",
   "name": "python",
   "nbconvert_exporter": "python",
   "pygments_lexer": "ipython3",
   "version": "3.10.12"
  }
 },
 "nbformat": 4,
 "nbformat_minor": 4
}
