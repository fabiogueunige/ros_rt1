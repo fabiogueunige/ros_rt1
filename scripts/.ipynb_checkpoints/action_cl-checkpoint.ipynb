{
 "cells": [
  {
   "cell_type": "markdown",
   "metadata": {},
   "source": [
    "# Action Client node with Jupyter "
   ]
  },
  {
   "cell_type": "markdown",
   "metadata": {},
   "source": [
    "### Import code"
   ]
  },
  {
   "cell_type": "code",
   "execution_count": null,
   "metadata": {},
   "outputs": [],
   "source": [
    "import rospy\n",
    "from nav_msgs.msg import Odometry\n",
    "import actionlib\n",
    "import actionlib.msg\n",
    "import assignment_2_2023.msg\n",
    "from assignment_2_2023.msg import Robotinfo, Robotinfofeet\n",
    "from actionlib_msgs.msg import GoalStatus\n",
    "from assignment_2_2023.srv import CancelGoal, CancelGoalResponse\n",
    "import time\n",
    "import numpy as np\n",
    "import matplotlib as mpl\n",
    "import matplotlib.pyplot as plt"
   ]
  },
  {
   "cell_type": "markdown",
   "metadata": {},
   "source": [
    "### Global variables"
   ]
  },
  {
   "cell_type": "code",
   "execution_count": null,
   "metadata": {},
   "outputs": [],
   "source": [
    "pubInfo = None\n",
    "subOdom = None  \n",
    "clienttar = None\n",
    "pubInfoFeet = None\n",
    "servCancGoal = None"
   ]
  },
  {
   "cell_type": "markdown",
   "metadata": {},
   "source": [
    "### Insert number for the target"
   ]
  },
  {
   "cell_type": "code",
   "execution_count": null,
   "metadata": {},
   "outputs": [],
   "source": [
    "def insertNumber():\n",
    "    \"\"\"\n",
    "    Function to take the input from the user to know the coordinates of the goal\n",
    "\n",
    "    Returns\n",
    "    -------\n",
    "    inpx : float\n",
    "        x coordinate of the goal    \n",
    "    inpy : float    \n",
    "        y coordinate of the goal\n",
    "    \"\"\"\n",
    "    while(1):\n",
    "        inpx = input(\"x: \")\n",
    "        try:\n",
    "            inpx = float(inpx)\n",
    "            break\n",
    "        except:\n",
    "            print(\"Please insert a valid number\")\n",
    "    while(1):\n",
    "        inpy = input(\"y: \")\n",
    "        try:\n",
    "            inpy = float(inpy)\n",
    "            break\n",
    "        except:\n",
    "            print(\"Please insert a valid number\")\n",
    "    return inpx, inpy"
   ]
  },
  {
   "cell_type": "markdown",
   "metadata": {},
   "source": [
    "### Odom callback to odometry subscription"
   ]
  },
  {
   "cell_type": "code",
   "execution_count": null,
   "metadata": {},
   "outputs": [],
   "source": [
    "def odom_callback(msg):\n",
    "    \"\"\"\n",
    "    Callback function for the subscriber of the odometry\n",
    "\n",
    "    Args:\n",
    "    msg (Odometry): message from the subscriber for the odometry\n",
    "    \"\"\"\n",
    "    global pubInfo, pubInfoFeet\n",
    "\n",
    "    # Create the message to publish\n",
    "    msgInfo = Robotinfo()\n",
    "    msgInfo.pos_x = round(msg.pose.pose.position.x,3)\n",
    "    msgInfo.pos_y = round(msg.pose.pose.position.y,3)\n",
    "    msgInfo.vel_x = round(msg.twist.twist.linear.x,3)\n",
    "    msgInfo.vel_ang_z = round(msg.twist.twist.angular.z,3)\n",
    "\n",
    "    # Publish the message\n",
    "    pubInfo.publish(msgInfo)\n",
    "\n",
    "    msgFeet = Robotinfofeet()\n",
    "    msgFeet.feet_x = round(msg.pose.pose.position.x*3.28,3)\n",
    "    msgFeet.feet_y = round(msg.pose.pose.position.y*3.28,3)\n",
    "\n",
    "    pubInfoFeet.publish(msgFeet)"
   ]
  },
  {
   "cell_type": "markdown",
   "metadata": {},
   "source": [
    "### goal cancelling service"
   ]
  },
  {
   "cell_type": "code",
   "execution_count": null,
   "metadata": {},
   "outputs": [],
   "source": [
    "def goal_canceling_service(req):\n",
    "    \"\"\"\n",
    "    Service to cancel the goal\n",
    "    \n",
    "    Args:\n",
    "    req (CancelGoal): request to cancel the goal\n",
    "    \"\"\"\n",
    "    \n",
    "    global servCancGoal\n",
    "\n",
    "    rospy.wait_for_service('/cancel_goal')\n",
    "\n",
    "    response = CancelGoalResponse()\n",
    "\n",
    "    \n",
    "    try: \n",
    "        clienttar.cancel_goal() \n",
    "        response.stat = \"Done\"\n",
    "    except:\n",
    "        response.stat = \"Error\"\n",
    "    \n",
    "    return response"
   ]
  },
  {
   "cell_type": "markdown",
   "metadata": {},
   "source": [
    "### Action Client definition"
   ]
  },
  {
   "cell_type": "code",
   "execution_count": null,
   "metadata": {},
   "outputs": [],
   "source": [
    "def action_client():\n",
    "    \"\"\"\n",
    "    Function to implement the action client\n",
    "    \"\"\"\n",
    "\n",
    "    global clienttar, servCancGoal\n",
    "\n",
    "    # Wait until the action server is up and running.\n",
    "    clienttar.wait_for_server()\n",
    "    \n",
    "\n",
    "    # User interface\n",
    "    print(\"Hi, welcome to the robot planner simulation\")\n",
    "    print(\"Please choose the position you want to reach with the robot\")\n",
    "    print(\"Insert the coordinates to reach as \")\n",
    "    \n",
    "    # Create a goal to send (to the action server)\n",
    "    goal = assignment_2_2023.msg.PlanningGoal()\n",
    "\n",
    "    # Implements the coordinates acquisition\n",
    "    inpx, inpy = insertNumber()\n",
    "\n",
    "    # Update the goal\n",
    "    goal.target_pose.pose.position.x = inpx\n",
    "    goal.target_pose.pose.position.y = inpy\n",
    "\n",
    "    # Sending the goal\n",
    "    clienttar.send_goal(goal)\n",
    "    print(\"You sent the goal with: X = \", goal.target_pose.pose.position.x,\" Y = \", goal.target_pose.pose.position.y)\n",
    "\n",
    "    while not rospy.is_shutdown(): \n",
    "        # Input from the user\n",
    "        choice = input(\"Do you want to insert a new goal? (y/n) \")\n",
    "        if (choice == 'y'):\n",
    "            # Implements the coordinates acquisition\n",
    "            inpx, inpy = insertNumber()\n",
    "\n",
    "            # Update the goal\n",
    "            goal.target_pose.pose.position.x = inpx\n",
    "            goal.target_pose.pose.position.y = inpy\n",
    "\n",
    "            # Send the goal\n",
    "            clienttar.send_goal(goal)\n",
    "            print(\"You sent the goal with: X = \", goal.target_pose.pose.position.x,\" Y = \", goal.target_pose.pose.position.y)\n",
    "        else:\n",
    "            choice = input(\"Do you want to cancel the previouse goal and restore ? (y/n) \")\n",
    "            if (choice == 'y'):\n",
    "                if (clienttar.get_state() == GoalStatus.ACTIVE):\n",
    "                    print(\"You canceled the goal with: X = \", goal.target_pose.pose.position.x,\" Y = \", goal.target_pose.pose.position.y)\n",
    "                    clienttar.cancel_goal() \n",
    "                else:\n",
    "                    print(\"The goal has already finished or it was already canceled\")\n",
    "            else:\n",
    "                print(\"No Operations has been done\")"
   ]
  },
  {
   "cell_type": "markdown",
   "metadata": {},
   "source": [
    "### Main call"
   ]
  },
  {
   "cell_type": "code",
   "execution_count": null,
   "metadata": {},
   "outputs": [],
   "source": [
    "def main():\n",
    "    \"\"\"\n",
    "        This function initializes the nodes and calls the action client function.\n",
    "        This also initializes the publisher and subscriber for the robot information, the service for the goal canceling and the action to reach the goal.\n",
    "    \"\"\"\n",
    "    global pubInfo, subOdom, clienttar, pubInfoFeet, servCancGoal\n",
    "    \n",
    "    # Wait for gazebo to be up and running\n",
    "    time.sleep(1)\n",
    "\n",
    "    # Initialize the node\n",
    "    rospy.init_node('action_client')\n",
    "\n",
    "    # Create the service Client\n",
    "    clienttar = actionlib.SimpleActionClient('/reaching_goal',assignment_2_2023.msg.PlanningAction)\n",
    "    \"\"\" Client for the action server reaching_goal\n",
    "    \"\"\"\n",
    "\n",
    "    # Service to cancel the goal\n",
    "    servCancGoal = rospy.ServiceProxy('/cancel_goal', CancelGoal) #  goal_canceling_service va aggiunto?\n",
    "    \"\"\" Service to cancel the goal\n",
    "    \"\"\"\n",
    "\n",
    "    # Call the publisher for velocity and position\n",
    "    pubInfo =  rospy.Publisher('/robot_info', Robotinfo, queue_size=1)\n",
    "    \"\"\" Publisher for the robot information\n",
    "    \"\"\"\n",
    "\n",
    "    # Call the subscriber from Odom for position and velocity\n",
    "    subOdom = rospy.Subscriber('/odom', Odometry, odom_callback)\n",
    "    \"\"\" Subscriber for the odometry\n",
    "    \"\"\"\n",
    "\n",
    "    # Call the publisher for information in feet\n",
    "    pubInfoFeet = rospy.Publisher('/robot_info_feet', Robotinfofeet, queue_size=1)\n",
    "    \"\"\" Publisher for the robot information in feet\n",
    "    \"\"\"\n",
    "\n",
    "    # Call the function\n",
    "    action_client()"
   ]
  }
 ],
 "metadata": {
  "kernelspec": {
   "display_name": "Python 3",
   "language": "python",
   "name": "python3"
  },
  "language_info": {
   "name": "python",
   "version": "3.10.12"
  }
 },
 "nbformat": 4,
 "nbformat_minor": 2
}
